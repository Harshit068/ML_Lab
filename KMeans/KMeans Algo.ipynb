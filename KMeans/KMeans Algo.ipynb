{
 "cells": [
  {
   "cell_type": "code",
   "execution_count": 8,
   "metadata": {},
   "outputs": [],
   "source": [
    "import numpy as np\n",
    "import pandas as pd\n",
    "from copy import deepcopy\n",
    "\n",
    "import matplotlib.pyplot as plt"
   ]
  },
  {
   "cell_type": "code",
   "execution_count": 5,
   "metadata": {},
   "outputs": [],
   "source": [
    "def euclidean(a,b, ax=1):\n",
    "    return np.linalg.norm(a-b, axis=ax)\n"
   ]
  },
  {
   "cell_type": "code",
   "execution_count": 6,
   "metadata": {},
   "outputs": [],
   "source": [
    "def main():\n",
    "    k = 3\n",
    "    X = pd.read_csv('data2.csv',index_col=False)\n",
    "    print(X)\n",
    "\n",
    "    x1 = X['X1'].values\n",
    "    x2 = X['X2'].values\n",
    "    X = np.array(list(zip(x1, x2)))\n",
    "    print(X)\n",
    "    C_x = [6.2, 6.6 ,6.5]\n",
    "    C_y = [3.2, 3.7, 3.0]\n",
    "    Centroid = np.array(list(zip(C_x, C_y)), dtype=np.float32)\n",
    "    print(\"Initial Centroids\")\n",
    "    print(Centroid.shape)\n",
    "\n",
    "    Centroid_old = np.zeros(Centroid.shape)\n",
    "    print(Centroid_old)\n",
    "    # Cluster Lables(0, 1, 2)\n",
    "    clusters = np.zeros(len(X))\n",
    "    print(clusters)\n",
    "    error = euclidean(Centroid, Centroid_old, None)\n",
    "    print(error)\n",
    "    iterr = 0\n",
    "    # Loop will run till the error becomes zero\n",
    "    while error != 0:\n",
    "        # Assigning each value to its closest cluster\n",
    "        iterr = iterr + 1\n",
    "        for i in range(len(X)):\n",
    "            #print(X[i])\n",
    "            distances = euclidean(X[i], Centroid)\n",
    "            #print(distances)\n",
    "            cluster = np.argmin(distances)\n",
    "            clusters[i] = cluster\n",
    "\n",
    "        Centroid_old = deepcopy(Centroid)\n",
    "        \n",
    "        # Finding the new centroids by taking the Mean\n",
    "        for p in range(k):\n",
    "            points = [X[j] for j in range(len(X)) if clusters[j] == p]\n",
    "            Centroid[p] = np.mean(points, axis=0)\n",
    "        print(\" Centre of the clusters after \", iterr,\" Iteration \\n\", Centroid)\n",
    "        error = euclidean(Centroid, Centroid_old, None)\n",
    "        print(\"Error  ... \",error)  "
   ]
  },
  {
   "cell_type": "code",
   "execution_count": 7,
   "metadata": {},
   "outputs": [
    {
     "name": "stdout",
     "output_type": "stream",
     "text": [
      "    X1   X2\n",
      "0  5.9  3.2\n",
      "1  4.6  2.9\n",
      "2  6.2  2.8\n",
      "3  4.7  3.2\n",
      "4  5.5  4.2\n",
      "5  5.0  3.0\n",
      "6  4.9  3.1\n",
      "7  6.7  3.1\n",
      "8  5.1  3.8\n",
      "9  6.0  3.0\n",
      "[[5.9 3.2]\n",
      " [4.6 2.9]\n",
      " [6.2 2.8]\n",
      " [4.7 3.2]\n",
      " [5.5 4.2]\n",
      " [5.  3. ]\n",
      " [4.9 3.1]\n",
      " [6.7 3.1]\n",
      " [5.1 3.8]\n",
      " [6.  3. ]]\n",
      "Initial Centroids\n",
      "(3, 2)\n",
      "[[0. 0.]\n",
      " [0. 0.]\n",
      " [0. 0.]]\n",
      "[0. 0. 0. 0. 0. 0. 0. 0. 0. 0.]\n",
      "12.537144692236463\n",
      " Centre of the clusters after  1  Iteration \n",
      " [[5.1714287 3.1714287]\n",
      " [5.5       4.2      ]\n",
      " [6.45      2.95     ]]\n",
      "Error  ...  1.5886393\n",
      " Centre of the clusters after  2  Iteration \n",
      " [[4.8   3.05 ]\n",
      " [5.3   4.   ]\n",
      " [6.2   3.025]]\n",
      "Error  ...  0.5484787\n",
      " Centre of the clusters after  3  Iteration \n",
      " [[4.8   3.05 ]\n",
      " [5.3   4.   ]\n",
      " [6.2   3.025]]\n",
      "Error  ...  0.0\n"
     ]
    }
   ],
   "source": [
    "if __name__ == \"__main__\": \n",
    "    main()"
   ]
  },
  {
   "cell_type": "code",
   "execution_count": 13,
   "metadata": {},
   "outputs": [
    {
     "ename": "NameError",
     "evalue": "name 'X' is not defined",
     "output_type": "error",
     "traceback": [
      "\u001b[0;31m---------------------------------------------------------------------------\u001b[0m",
      "\u001b[0;31mNameError\u001b[0m                                 Traceback (most recent call last)",
      "\u001b[0;32m<ipython-input-13-23a141c088e2>\u001b[0m in \u001b[0;36m<module>\u001b[0;34m\u001b[0m\n\u001b[0;32m----> 1\u001b[0;31m \u001b[0mplt\u001b[0m\u001b[0;34m.\u001b[0m\u001b[0mscatter\u001b[0m\u001b[0;34m(\u001b[0m\u001b[0mX\u001b[0m\u001b[0;34m.\u001b[0m\u001b[0mX1\u001b[0m\u001b[0;34m,\u001b[0m\u001b[0mX\u001b[0m\u001b[0;34m.\u001b[0m\u001b[0mX2\u001b[0m\u001b[0;34m)\u001b[0m\u001b[0;34m\u001b[0m\u001b[0;34m\u001b[0m\u001b[0m\n\u001b[0m\u001b[1;32m      2\u001b[0m \u001b[0mplt\u001b[0m\u001b[0;34m.\u001b[0m\u001b[0mshow\u001b[0m\u001b[0;34m(\u001b[0m\u001b[0;34m)\u001b[0m\u001b[0;34m\u001b[0m\u001b[0;34m\u001b[0m\u001b[0m\n",
      "\u001b[0;31mNameError\u001b[0m: name 'X' is not defined"
     ]
    }
   ],
   "source": [
    "data=pd.read_csv(\"/home/root1/data2.csv\")\n",
    "plt.scatter(data.X1,data.X2)\n",
    "plt.show()"
   ]
  },
  {
   "cell_type": "code",
   "execution_count": null,
   "metadata": {},
   "outputs": [],
   "source": []
  }
 ],
 "metadata": {
  "kernelspec": {
   "display_name": "Python 3",
   "language": "python",
   "name": "python3"
  },
  "language_info": {
   "codemirror_mode": {
    "name": "ipython",
    "version": 3
   },
   "file_extension": ".py",
   "mimetype": "text/x-python",
   "name": "python",
   "nbconvert_exporter": "python",
   "pygments_lexer": "ipython3",
   "version": "3.7.4"
  }
 },
 "nbformat": 4,
 "nbformat_minor": 2
}
